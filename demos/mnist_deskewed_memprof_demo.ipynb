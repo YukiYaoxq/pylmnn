{
 "cells": [
  {
   "cell_type": "code",
   "execution_count": 1,
   "metadata": {
    "collapsed": true
   },
   "outputs": [],
   "source": [
    "import numpy as np\n",
    "import os\n",
    "from scipy.io import loadmat\n",
    "from sklearn.datasets import get_data_home\n",
    "from sklearn.neighbors import LargeMarginNearestNeighbor as LMNN"
   ]
  },
  {
   "cell_type": "code",
   "execution_count": 2,
   "metadata": {
    "collapsed": true
   },
   "outputs": [],
   "source": [
    "MNIST_DESKEWED_URL = 'https://www.dropbox.com/s/mhsnormwt5i2ba6/mnist-deskewed-pca164.mat?dl=1'\n",
    "MNIST_DESKEWED_PATH = os.path.join(get_data_home(), 'mnist-deskewed-pca164.mat')\n",
    "\n",
    "if not os.path.exists(MNIST_DESKEWED_PATH):\n",
    "    from urllib import request\n",
    "    request.urlretrieve(MNIST_DESKEWED_URL, MNIST_DESKEWED_PATH)\n",
    "\n",
    "mnist_mat = loadmat(MNIST_DESKEWED_PATH)\n",
    "\n",
    "X_train = np.asarray(mnist_mat['X_train'], dtype=np.float64)\n",
    "X_test = np.asarray(mnist_mat['X_test'], dtype=np.float64)\n",
    "y_train = np.asarray(mnist_mat['y_train'], dtype=np.int).ravel()\n",
    "y_test = np.asarray(mnist_mat['y_test'], dtype=np.int).ravel()"
   ]
  },
  {
   "cell_type": "code",
   "execution_count": 3,
   "metadata": {
    "collapsed": true
   },
   "outputs": [],
   "source": [
    "%load_ext memory_profiler"
   ]
  },
  {
   "cell_type": "code",
   "execution_count": 4,
   "metadata": {
    "collapsed": true
   },
   "outputs": [],
   "source": [
    "lmnn = LMNN(n_neighbors=3, random_state=42, verbose=1)"
   ]
  },
  {
   "cell_type": "code",
   "execution_count": 5,
   "metadata": {},
   "outputs": [
    {
     "name": "stdout",
     "output_type": "stream",
     "text": [
      "Finding principal components... done in  0.44s\n",
      "Finding the target neighbors... done in 59.27s\n",
      "Computing static part of the gradient...\n",
      "\n",
      " Iteration   Function Call      Objective Value    Time(s)\n",
      "----------------------------------------------------------\n",
      "         1               1         1.044149e+07      10.80\n",
      "         1               2         4.217784e+06      10.78\n",
      "         2               3         3.781575e+06      10.76\n",
      "         3               4         2.983367e+06      10.72\n",
      "         4               5         2.504095e+06      10.84\n",
      "         5               6         1.990753e+06      10.80\n",
      "         6               7         1.393434e+06      10.87\n",
      "         7               8         1.355413e+06      11.60\n",
      "         7               9         1.128655e+06      10.92\n",
      "         8              10         8.773327e+05      11.32\n",
      "         9              11         7.368591e+05      11.27\n",
      "        10              12         6.927031e+05      11.29\n",
      "        11              13         6.746426e+05      11.92\n",
      "        11              14         6.018972e+05      11.47\n",
      "        12              15         5.279854e+05      11.82\n",
      "        13              16         4.873957e+05      12.95\n",
      "        14              17         4.376645e+05      12.42\n",
      "        15              18         4.193296e+05      13.20\n",
      "        16              19         3.727423e+05      13.12\n",
      "        17              20         3.417441e+05      14.88\n",
      "        18              21         3.216023e+05      13.90\n",
      "        19              22         3.083693e+05      13.87\n",
      "        20              23         2.885675e+05      14.15\n",
      "        21              24         2.701603e+05      14.47\n",
      "        22              25         2.561882e+05      14.85\n",
      "        23              26         2.500300e+05      14.87\n",
      "        24              27         2.427268e+05      15.05\n",
      "        25              28         2.364759e+05      15.05\n",
      "        26              29         2.321434e+05      15.24\n",
      "        27              30         2.313615e+05      15.15\n",
      "        28              31         2.309589e+05      15.07\n",
      "        29              32         2.320802e+05      15.67\n",
      "        29              33         2.307415e+05      15.09\n",
      "        30              34         2.326199e+05      15.10\n",
      "        30              35         2.308944e+05      15.14\n",
      "        30              36         2.303476e+05      15.11\n",
      "        30              37         2.309149e+05      15.10\n",
      "        30              38         2.307002e+05      15.78\n",
      "        31              39         2.330837e+05      15.02\n",
      "        31              40         2.306574e+05      15.09\n",
      "        32              41         2.330324e+05      14.95\n",
      "        32              42         2.304039e+05      15.09\n",
      "        33              43         2.321328e+05      14.96\n",
      "        33              44         2.311172e+05      15.04\n",
      "        33              45         2.310586e+05      15.24\n",
      "        33              46         2.307769e+05      15.14\n",
      "        33              47         2.309434e+05      15.13\n",
      "        33              48         2.310719e+05      15.15\n",
      "        33              49         2.308991e+05      15.52\n",
      "\n",
      "Optimization stopped: \n",
      "Converged after 49 function calls.\n",
      "Training took   728.81s.\n",
      "peak memory: 689.88 MiB, increment: 506.56 MiB\n"
     ]
    }
   ],
   "source": [
    "%memit lmnn.fit(X_train, y_train)"
   ]
  },
  {
   "cell_type": "code",
   "execution_count": 6,
   "metadata": {
    "collapsed": true
   },
   "outputs": [],
   "source": [
    "from sklearn.neighbors import KNeighborsClassifier as KNN"
   ]
  },
  {
   "cell_type": "code",
   "execution_count": 7,
   "metadata": {},
   "outputs": [
    {
     "name": "stdout",
     "output_type": "stream",
     "text": [
      "LMNN accuracy on MNIST test set is 98.58%.\n"
     ]
    }
   ],
   "source": [
    "knn = KNN(n_neighbors=lmnn.n_neighbors_)\n",
    "knn.fit(lmnn.transform(X_train), y_train)\n",
    "test_acc = knn.score(lmnn.transform(X_test), y_test)\n",
    "print('LMNN accuracy on MNIST test set is {:5.2f}%.'.format(100*test_acc))"
   ]
  }
 ],
 "metadata": {
  "kernelspec": {
   "display_name": "Python 3",
   "language": "python",
   "name": "python3"
  },
  "language_info": {
   "codemirror_mode": {
    "name": "ipython",
    "version": 3
   },
   "file_extension": ".py",
   "mimetype": "text/x-python",
   "name": "python",
   "nbconvert_exporter": "python",
   "pygments_lexer": "ipython3",
   "version": "3.6.1"
  }
 },
 "nbformat": 4,
 "nbformat_minor": 2
}
