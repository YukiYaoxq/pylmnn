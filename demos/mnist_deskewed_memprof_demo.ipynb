{
 "cells": [
  {
   "cell_type": "code",
   "execution_count": 1,
   "metadata": {
    "collapsed": true
   },
   "outputs": [],
   "source": [
    "import numpy as np\n",
    "import os\n",
    "from scipy.io import loadmat\n",
    "from sklearn.datasets import get_data_home\n",
    "from sklearn.neighbors import LargeMarginNearestNeighbor as LMNN"
   ]
  },
  {
   "cell_type": "code",
   "execution_count": 2,
   "metadata": {},
   "outputs": [
    {
     "name": "stdout",
     "output_type": "stream",
     "text": [
      "Loaded deskewed MNIST from /work/chiotell/scikit_learn_data/mnist-deskewed-pca164.mat.\n"
     ]
    }
   ],
   "source": [
    "MNIST_DESKEWED_URL = 'https://www.dropbox.com/s/mhsnormwt5i2ba6/mnist-deskewed-pca164.mat?dl=1'\n",
    "MNIST_DESKEWED_PATH = os.path.join(get_data_home(), 'mnist-deskewed-pca164.mat')\n",
    "\n",
    "if not os.path.exists(MNIST_DESKEWED_PATH):\n",
    "    from urllib import request\n",
    "    print('Downloading deskewed MNIST from {} . . .'.format(MNIST_DESKEWED_URL), end='')\n",
    "    request.urlretrieve(MNIST_DESKEWED_URL, MNIST_DESKEWED_PATH)\n",
    "    print('done.')\n",
    "\n",
    "mnist_mat = loadmat(MNIST_DESKEWED_PATH)\n",
    "\n",
    "X_train = np.asarray(mnist_mat['X_train'], dtype=np.float64)\n",
    "X_test = np.asarray(mnist_mat['X_test'], dtype=np.float64)\n",
    "y_train = np.asarray(mnist_mat['y_train'], dtype=np.int).ravel()\n",
    "y_test = np.asarray(mnist_mat['y_test'], dtype=np.int).ravel()\n",
    "\n",
    "print('Loaded deskewed MNIST from {}.'.format(MNIST_DESKEWED_PATH))"
   ]
  },
  {
   "cell_type": "code",
   "execution_count": 3,
   "metadata": {},
   "outputs": [],
   "source": [
    "%load_ext memory_profiler"
   ]
  },
  {
   "cell_type": "code",
   "execution_count": 23,
   "metadata": {
    "collapsed": true
   },
   "outputs": [],
   "source": [
    "lmnn = LMNN(n_neighbors=3, store_opt_result=True, random_state=42, verbose=1, max_iter=35, n_jobs=-1)"
   ]
  },
  {
   "cell_type": "code",
   "execution_count": 24,
   "metadata": {},
   "outputs": [
    {
     "name": "stdout",
     "output_type": "stream",
     "text": [
      "Finding principal components... done in  0.46s.\n",
      "Finding the target neighbors... done in 16.96s.\n",
      "Computing static part of the gradient... done.\n",
      "\n",
      " Iteration      Objective Value    Time(s)\n",
      "------------------------------------------\n",
      "         1         1.044149e+07      11.08\n",
      "         1         4.217784e+06      11.49\n",
      "         2         3.781575e+06      11.01\n",
      "         3         2.983367e+06      11.20\n",
      "         4         2.504095e+06      10.95\n",
      "         5         1.990753e+06      11.00\n",
      "         6         1.393434e+06      11.11\n",
      "         7         1.355413e+06      11.65\n",
      "         7         1.128655e+06      10.97\n",
      "         8         8.773327e+05      11.79\n",
      "         9         7.368591e+05      11.30\n",
      "        10         6.927031e+05      11.66\n",
      "        11         6.746426e+05      11.83\n",
      "        11         6.018972e+05      11.42\n",
      "        12         5.397134e+05      11.92\n",
      "        13         4.944894e+05      12.89\n",
      "        14         4.488239e+05      12.21\n",
      "        15         4.275367e+05      12.55\n",
      "        16         3.632203e+05      13.79\n",
      "        17         3.398671e+05      13.90\n",
      "        18         3.254169e+05      13.75\n",
      "        19         3.106717e+05      13.87\n",
      "        20         2.834003e+05      15.01\n",
      "        21         2.764217e+05      14.51\n",
      "        22         2.640523e+05      14.62\n",
      "        23         2.572826e+05      14.74\n",
      "        24         2.471834e+05      14.86\n",
      "        25         2.425507e+05      14.85\n",
      "        26         2.394713e+05      14.82\n",
      "        27         2.376717e+05      14.81\n",
      "        28         2.357849e+05      14.85\n",
      "        29         2.360808e+05      14.84\n",
      "        29         2.357765e+05      14.85\n",
      "        30         2.353224e+05      14.86\n",
      "        31         2.327683e+05      14.93\n",
      "        32         2.311667e+05      14.90\n",
      "        33         2.301317e+05      14.88\n",
      "        34         2.294551e+05      14.97\n",
      "        35         2.293295e+05      14.93\n",
      "        36         2.292410e+05      15.17\n",
      "        37         2.289086e+05      14.95\n",
      "Training took   563.45s.\n",
      "peak memory: 764.74 MiB, increment: 397.18 MiB\n"
     ]
    }
   ],
   "source": [
    "%memit lmnn.fit(X_train, y_train)"
   ]
  },
  {
   "cell_type": "code",
   "execution_count": 25,
   "metadata": {
    "collapsed": true
   },
   "outputs": [],
   "source": [
    "from sklearn.neighbors import KNeighborsClassifier as KNN"
   ]
  },
  {
   "cell_type": "code",
   "execution_count": 26,
   "metadata": {},
   "outputs": [
    {
     "name": "stdout",
     "output_type": "stream",
     "text": [
      "LMNN accuracy on MNIST test set is 98.68%.\n"
     ]
    }
   ],
   "source": [
    "knn = KNN(n_neighbors=lmnn.n_neighbors_, n_jobs=-1)\n",
    "knn.fit(lmnn.transform(X_train), y_train)\n",
    "test_acc = knn.score(lmnn.transform(X_test), y_test)\n",
    "print('LMNN accuracy on MNIST test set is {:5.2f}%.'.format(100*test_acc))"
   ]
  },
  {
   "cell_type": "code",
   "execution_count": 27,
   "metadata": {},
   "outputs": [
    {
     "data": {
      "text/plain": [
       "41"
      ]
     },
     "execution_count": 27,
     "metadata": {},
     "output_type": "execute_result"
    }
   ],
   "source": [
    "lmnn.opt_result_.nfev"
   ]
  },
  {
   "cell_type": "code",
   "execution_count": 28,
   "metadata": {},
   "outputs": [
    {
     "data": {
      "text/plain": [
       "36"
      ]
     },
     "execution_count": 28,
     "metadata": {},
     "output_type": "execute_result"
    }
   ],
   "source": [
    "lmnn.opt_result_.nit"
   ]
  }
 ],
 "metadata": {
  "kernelspec": {
   "display_name": "Python [default]",
   "language": "python",
   "name": "python3"
  },
  "language_info": {
   "codemirror_mode": {
    "name": "ipython",
    "version": 3
   },
   "file_extension": ".py",
   "mimetype": "text/x-python",
   "name": "python",
   "nbconvert_exporter": "python",
   "pygments_lexer": "ipython3",
   "version": "3.6.1"
  }
 },
 "nbformat": 4,
 "nbformat_minor": 2
}
