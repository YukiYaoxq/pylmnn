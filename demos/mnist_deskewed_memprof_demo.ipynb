{
 "cells": [
  {
   "cell_type": "code",
   "execution_count": 1,
   "metadata": {
    "collapsed": true
   },
   "outputs": [],
   "source": [
    "import numpy as np\n",
    "import os\n",
    "from scipy.io import loadmat\n",
    "from sklearn.datasets import get_data_home\n",
    "from sklearn.neighbors import LargeMarginNearestNeighbor as LMNN"
   ]
  },
  {
   "cell_type": "code",
   "execution_count": 9,
   "metadata": {},
   "outputs": [
    {
     "name": "stdout",
     "output_type": "stream",
     "text": [
      "Downloading data from https://www.dropbox.com/s/mhsnormwt5i2ba6/mnist-deskewed-pca164.mat?dl=1 . . .done.\n",
      "Loading data from /home/johny/scikit_learn_data/mnist-deskewed-pca164.mat.\n"
     ]
    }
   ],
   "source": [
    "MNIST_DESKEWED_URL = 'https://www.dropbox.com/s/mhsnormwt5i2ba6/mnist-deskewed-pca164.mat?dl=1'\n",
    "MNIST_DESKEWED_PATH = os.path.join(get_data_home(), 'mnist-deskewed-pca164.mat')\n",
    "\n",
    "if not os.path.exists(MNIST_DESKEWED_PATH):\n",
    "    from urllib import request\n",
    "    print('Downloading data from {} . . .'.format(MNIST_DESKEWED_URL), end='')\n",
    "    request.urlretrieve(MNIST_DESKEWED_URL, MNIST_DESKEWED_PATH)\n",
    "    print('done.')\n",
    "\n",
    "print('Loading data from {}.'.format(MNIST_DESKEWED_PATH))\n",
    "    \n",
    "mnist_mat = loadmat(MNIST_DESKEWED_PATH)\n",
    "\n",
    "X_train = np.asarray(mnist_mat['X_train'], dtype=np.float64)\n",
    "X_test = np.asarray(mnist_mat['X_test'], dtype=np.float64)\n",
    "y_train = np.asarray(mnist_mat['y_train'], dtype=np.int).ravel()\n",
    "y_test = np.asarray(mnist_mat['y_test'], dtype=np.int).ravel()"
   ]
  },
  {
   "cell_type": "code",
   "execution_count": 3,
   "metadata": {
    "collapsed": true
   },
   "outputs": [],
   "source": [
    "%load_ext memory_profiler"
   ]
  },
  {
   "cell_type": "code",
   "execution_count": 5,
   "metadata": {
    "collapsed": true
   },
   "outputs": [],
   "source": [
    "lmnn = LMNN(n_neighbors=3, random_state=42, verbose=1, n_jobs=-1)"
   ]
  },
  {
   "cell_type": "code",
   "execution_count": 6,
   "metadata": {},
   "outputs": [
    {
     "name": "stdout",
     "output_type": "stream",
     "text": [
      "Finding principal components... done in  0.61s\n",
      "Finding the target neighbors... done in 40.40s\n",
      "Computing static part of the gradient...\n",
      "\n",
      " Iteration   Function Call      Objective Value    Time(s)\n",
      "----------------------------------------------------------\n",
      "         1               1         1.044149e+07      17.42\n",
      "         1               2         4.217784e+06      16.99\n",
      "         2               3         3.781575e+06      21.10\n",
      "         3               4         2.983367e+06      18.76\n",
      "         4               5         2.504095e+06      22.74\n",
      "         5               6         1.990753e+06      19.64\n",
      "         6               7         1.393434e+06      18.94\n",
      "         7               8         1.355413e+06      22.12\n",
      "         7               9         1.128655e+06      18.90\n",
      "         8              10         8.773327e+05      27.30\n",
      "         9              11         7.368591e+05      23.11\n",
      "        10              12         6.927031e+05      22.54\n",
      "        11              13         6.746426e+05      25.98\n",
      "        11              14         6.018972e+05      21.70\n",
      "        12              15         5.279854e+05      24.78\n",
      "        13              16         4.873957e+05      21.39\n",
      "        14              17         4.376645e+05      19.20\n",
      "        15              18         4.193296e+05      27.88\n",
      "        16              19         3.727423e+05      26.07\n",
      "        17              20         3.417441e+05      30.98\n",
      "        18              21         3.216023e+05      30.45\n",
      "        19              22         3.083693e+05      25.43\n",
      "        20              23         2.885675e+05      26.22\n",
      "        21              24         2.701603e+05      22.86\n",
      "        22              25         2.561882e+05      23.57\n",
      "        23              26         2.500300e+05      25.03\n",
      "        24              27         2.427268e+05      24.34\n",
      "        25              28         2.364759e+05      31.78\n",
      "        26              29         2.321434e+05      26.67\n",
      "        27              30         2.313615e+05      24.91\n",
      "        28              31         2.309589e+05      25.72\n",
      "        29              32         2.320802e+05      25.01\n",
      "        29              33         2.307415e+05      25.66\n",
      "        30              34         2.326199e+05      27.26\n",
      "        30              35         2.308944e+05      25.95\n",
      "        30              36         2.303476e+05      25.41\n",
      "        30              37         2.309149e+05      24.53\n",
      "        30              38         2.307002e+05      22.90\n",
      "        31              39         2.330837e+05      23.16\n",
      "        31              40         2.306574e+05      22.44\n",
      "        32              41         2.330324e+05      22.45\n",
      "        32              42         2.304039e+05      22.27\n",
      "        33              43         2.321328e+05      22.19\n",
      "        33              44         2.311172e+05      22.46\n",
      "        33              45         2.310586e+05      22.42\n",
      "        33              46         2.307769e+05      22.67\n",
      "        33              47         2.309434e+05      22.52\n",
      "        33              48         2.310719e+05      22.19\n",
      "        33              49         2.308991e+05      22.67\n",
      "\n",
      "Optimization stopped: \n",
      "Converged after 49 function calls.\n",
      "Training took  1200.15s.\n",
      "peak memory: 659.38 MiB, increment: 492.10 MiB\n"
     ]
    }
   ],
   "source": [
    "%memit lmnn.fit(X_train, y_train)"
   ]
  },
  {
   "cell_type": "code",
   "execution_count": 7,
   "metadata": {
    "collapsed": true
   },
   "outputs": [],
   "source": [
    "from sklearn.neighbors import KNeighborsClassifier as KNN"
   ]
  },
  {
   "cell_type": "code",
   "execution_count": 8,
   "metadata": {},
   "outputs": [
    {
     "name": "stdout",
     "output_type": "stream",
     "text": [
      "LMNN accuracy on MNIST test set is 98.58%.\n"
     ]
    }
   ],
   "source": [
    "knn = KNN(n_neighbors=lmnn.n_neighbors_)\n",
    "knn.fit(lmnn.transform(X_train), y_train)\n",
    "test_acc = knn.score(lmnn.transform(X_test), y_test)\n",
    "print('LMNN accuracy on MNIST test set is {:5.2f}%.'.format(100*test_acc))"
   ]
  },
  {
   "cell_type": "code",
   "execution_count": null,
   "metadata": {
    "collapsed": true
   },
   "outputs": [],
   "source": []
  }
 ],
 "metadata": {
  "kernelspec": {
   "display_name": "Python 3",
   "language": "python",
   "name": "python3"
  },
  "language_info": {
   "codemirror_mode": {
    "name": "ipython",
    "version": 3
   },
   "file_extension": ".py",
   "mimetype": "text/x-python",
   "name": "python",
   "nbconvert_exporter": "python",
   "pygments_lexer": "ipython3",
   "version": "3.6.1"
  }
 },
 "nbformat": 4,
 "nbformat_minor": 2
}
