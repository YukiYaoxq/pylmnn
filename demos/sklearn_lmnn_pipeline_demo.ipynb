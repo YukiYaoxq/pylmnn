{
 "cells": [
  {
   "cell_type": "code",
   "execution_count": 1,
   "metadata": {
    "collapsed": true
   },
   "outputs": [],
   "source": [
    "from sklearn.pipeline import Pipeline\n",
    "from sklearn.neighbors import LargeMarginNearestNeighbor as LMNN\n",
    "from sklearn.neighbors import KNeighborsClassifier as KNN\n",
    "from sklearn.datasets import load_iris, get_data_home\n",
    "from sklearn.model_selection import train_test_split"
   ]
  },
  {
   "cell_type": "code",
   "execution_count": 2,
   "metadata": {
    "collapsed": true
   },
   "outputs": [],
   "source": [
    "# Load and split dataset\n",
    "X, y = load_iris(return_X_y=True)\n",
    "X_train, X_test, y_train, y_test = train_test_split(X, y, stratify=y, test_size=0.7, random_state=42)"
   ]
  },
  {
   "cell_type": "code",
   "execution_count": 3,
   "metadata": {},
   "outputs": [
    {
     "name": "stdout",
     "output_type": "stream",
     "text": [
      "KNN accuracy on iris test set is 93.33%.\n"
     ]
    }
   ],
   "source": [
    "# Train and test with k-nearest neighbor classifier\n",
    "knn = KNN(n_neighbors=3)\n",
    "knn.fit(X_train, y_train)\n",
    "test_acc = knn.score(X_test, y_test)\n",
    "print('KNN accuracy on iris test set is {:5.2f}%.'.format(100*test_acc))"
   ]
  },
  {
   "cell_type": "code",
   "execution_count": 4,
   "metadata": {
    "collapsed": true
   },
   "outputs": [],
   "source": [
    "# Construct LMNN classifier with Pipeline\n",
    "lmnn = LMNN(n_neighbors=3, random_state=42)\n",
    "knn = KNN(n_neighbors=3)\n",
    "lmnn_pipe = Pipeline([('lin_transform', lmnn), ('clf', knn)])"
   ]
  },
  {
   "cell_type": "code",
   "execution_count": 5,
   "metadata": {},
   "outputs": [
    {
     "name": "stdout",
     "output_type": "stream",
     "text": [
      "LMNN accuracy on iris test set is 97.14%.\n"
     ]
    }
   ],
   "source": [
    "# Train and test with LMNN classifier\n",
    "lmnn_pipe.fit(X_train, y_train)\n",
    "lmnn_acc = pipe.score(X_test, y_test)\n",
    "print('LMNN accuracy on iris test set is {:5.2f}%.'.format(100*lmnn_acc))"
   ]
  }
 ],
 "metadata": {
  "kernelspec": {
   "display_name": "Python 3",
   "language": "python",
   "name": "python3"
  },
  "language_info": {
   "codemirror_mode": {
    "name": "ipython",
    "version": 3
   },
   "file_extension": ".py",
   "mimetype": "text/x-python",
   "name": "python",
   "nbconvert_exporter": "python",
   "pygments_lexer": "ipython3",
   "version": "3.6.1"
  }
 },
 "nbformat": 4,
 "nbformat_minor": 2
}
