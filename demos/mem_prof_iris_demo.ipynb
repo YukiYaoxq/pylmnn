{
 "cells": [
  {
   "cell_type": "code",
   "execution_count": 1,
   "metadata": {
    "collapsed": true
   },
   "outputs": [],
   "source": [
    "import numpy as np\n",
    "import os\n",
    "from sklearn.neighbors import LargeMarginNearestNeighbor as LMNN\n",
    "from sklearn.datasets import load_iris, get_data_home\n",
    "from sklearn.model_selection import train_test_split"
   ]
  },
  {
   "cell_type": "code",
   "execution_count": 2,
   "metadata": {
    "collapsed": true
   },
   "outputs": [],
   "source": [
    "X, y = load_iris(return_X_y=True)"
   ]
  },
  {
   "cell_type": "code",
   "execution_count": 3,
   "metadata": {
    "collapsed": true
   },
   "outputs": [],
   "source": [
    "X_train, X_test, y_train, y_test = train_test_split(X, y, stratify=y, test_size=0.3, random_state=42)"
   ]
  },
  {
   "cell_type": "code",
   "execution_count": 4,
   "metadata": {
    "collapsed": true
   },
   "outputs": [],
   "source": [
    "model = LMNN(n_neighbors=3, random_state=42, verbose=1)"
   ]
  },
  {
   "cell_type": "code",
   "execution_count": 5,
   "metadata": {
    "collapsed": true
   },
   "outputs": [],
   "source": [
    "%load_ext memory_profiler"
   ]
  },
  {
   "cell_type": "code",
   "execution_count": 6,
   "metadata": {},
   "outputs": [
    {
     "name": "stdout",
     "output_type": "stream",
     "text": [
      "Finding principal components... done in  0.01s\n",
      "Finding the target neighbors... done in  0.00s\n",
      "Computing static part of the gradient...\n",
      "\n",
      " Iteration   Function Call      Objective Value    Time(s)\n",
      "----------------------------------------------------------\n",
      "         1               1         3.428306e+02       0.02\n",
      "         1               2         2.629985e+02       0.01\n",
      "         2               3         2.510550e+02       0.01\n",
      "         3               4         2.434241e+02       0.02\n",
      "         4               5         2.420254e+02       0.01\n",
      "         5               6         2.416631e+02       0.01\n",
      "         6               7         2.407683e+02       0.01\n",
      "         7               8         2.410336e+02       0.01\n",
      "         7               9         2.404970e+02       0.01\n",
      "         8              10         2.402549e+02       0.01\n",
      "         9              11         2.399571e+02       0.01\n",
      "        10              12         2.398222e+02       0.01\n",
      "        11              13         2.397479e+02       0.01\n",
      "        12              14         2.397320e+02       0.01\n",
      "        13              15         2.397253e+02       0.01\n",
      "        14              16         2.397242e+02       0.01\n",
      "        15              17         2.397232e+02       0.01\n",
      "        16              18         2.397231e+02       0.01\n",
      "        17              19         2.397230e+02       0.01\n",
      "        18              20         2.397230e+02       0.01\n",
      "        19              21         2.397230e+02       0.01\n",
      "        20              22         2.397230e+02       0.01\n",
      "\n",
      "Optimization stopped: \n",
      "Converged after 22 function calls.\n",
      "Training took     0.27s.\n",
      "peak memory: 99.52 MiB, increment: 10.27 MiB\n"
     ]
    }
   ],
   "source": [
    "%memit model.fit(X_train, y_train)"
   ]
  },
  {
   "cell_type": "code",
   "execution_count": 7,
   "metadata": {
    "collapsed": true
   },
   "outputs": [],
   "source": [
    "from sklearn.neighbors import KNeighborsClassifier as KNN"
   ]
  },
  {
   "cell_type": "code",
   "execution_count": 8,
   "metadata": {},
   "outputs": [
    {
     "name": "stdout",
     "output_type": "stream",
     "text": [
      "LMNN accuracy on iris test set is 97.78%.\n"
     ]
    }
   ],
   "source": [
    "knn = KNN(n_neighbors=model.n_neighbors_)\n",
    "knn.fit(model.transform(X_train), y_train)\n",
    "test_acc = knn.score(model.transform(X_test), y_test)\n",
    "print('LMNN accuracy on iris test set is {:5.2f}%.'.format(100*test_acc))"
   ]
  },
  {
   "cell_type": "code",
   "execution_count": null,
   "metadata": {
    "collapsed": true
   },
   "outputs": [],
   "source": []
  }
 ],
 "metadata": {
  "kernelspec": {
   "display_name": "Python 3",
   "language": "python",
   "name": "python3"
  },
  "language_info": {
   "codemirror_mode": {
    "name": "ipython",
    "version": 3
   },
   "file_extension": ".py",
   "mimetype": "text/x-python",
   "name": "python",
   "nbconvert_exporter": "python",
   "pygments_lexer": "ipython3",
   "version": "3.6.1"
  }
 },
 "nbformat": 4,
 "nbformat_minor": 2
}
