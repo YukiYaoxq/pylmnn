{
 "cells": [
  {
   "cell_type": "code",
   "execution_count": 15,
   "metadata": {
    "collapsed": true
   },
   "outputs": [],
   "source": [
    "import numpy as np\n",
    "import os\n",
    "from sklearn.neighbors import LargeMarginNearestNeighbor as LMNN\n",
    "from sklearn.datasets import load_iris, get_data_home\n",
    "from sklearn.model_selection import train_test_split"
   ]
  },
  {
   "cell_type": "code",
   "execution_count": null,
   "metadata": {
    "collapsed": true
   },
   "outputs": [],
   "source": [
    "X, y = load_iris(return_X_y=True)"
   ]
  },
  {
   "cell_type": "code",
   "execution_count": 5,
   "metadata": {
    "collapsed": true
   },
   "outputs": [],
   "source": [
    "X_train, X_test, y_train, y_test = train_test_split(X, y, stratify=y, random_state=42)"
   ]
  },
  {
   "cell_type": "code",
   "execution_count": 6,
   "metadata": {
    "collapsed": true
   },
   "outputs": [],
   "source": [
    "model = LMNN(n_neighbors=3, random_state=42, verbose=1)"
   ]
  },
  {
   "cell_type": "code",
   "execution_count": 9,
   "metadata": {
    "collapsed": true
   },
   "outputs": [],
   "source": [
    "%load_ext memory_profiler"
   ]
  },
  {
   "cell_type": "code",
   "execution_count": 10,
   "metadata": {},
   "outputs": [
    {
     "name": "stdout",
     "output_type": "stream",
     "text": [
      "Finding principal components... done in  0.02s\n",
      "Finding the target neighbors... done in  0.01s\n",
      "Computing static part of the gradient...\n",
      "\n",
      " Iteration  Func.Call      Func.Value    Time(s)\n",
      "------------------------------------------------\n",
      "         1\n",
      "                    1    4.232806e+02       0.02\n",
      "                    2    2.969393e+02       0.01\n",
      "         2\n",
      "                    3    2.863833e+02       0.01\n",
      "         3\n",
      "                    4    2.723776e+02       0.01\n",
      "         4\n",
      "                    5    2.699042e+02       0.01\n",
      "         5\n",
      "                    6    2.672296e+02       0.01\n",
      "         6\n",
      "                    7    2.667709e+02       0.01\n",
      "         7\n",
      "                    8    2.664024e+02       0.01\n",
      "         8\n",
      "                    9    2.661082e+02       0.01\n",
      "         9\n",
      "                   10    2.660340e+02       0.01\n",
      "        10\n",
      "                   11    2.659477e+02       0.01\n",
      "        11\n",
      "                   12    2.659432e+02       0.02\n",
      "        12\n",
      "                   13    2.659367e+02       0.02\n",
      "        13\n",
      "                   14    2.659347e+02       0.01\n",
      "        14\n",
      "                   15    2.659346e+02       0.02\n",
      "        15\n",
      "                   16    2.659344e+02       0.01\n",
      "        16\n",
      "                   17    2.659344e+02       0.01\n",
      "        17\n",
      "                   18    2.659344e+02       0.01\n",
      "        18\n",
      "Converged after 18 function calls.\n",
      "peak memory: 82.83 MiB, increment: 5.17 MiB\n"
     ]
    }
   ],
   "source": [
    "%memit model.fit(X_train, y_train)"
   ]
  }
 ],
 "metadata": {
  "kernelspec": {
   "display_name": "Python 3",
   "language": "python",
   "name": "python3"
  },
  "language_info": {
   "codemirror_mode": {
    "name": "ipython",
    "version": 3
   },
   "file_extension": ".py",
   "mimetype": "text/x-python",
   "name": "python",
   "nbconvert_exporter": "python",
   "pygments_lexer": "ipython3",
   "version": "3.6.1"
  }
 },
 "nbformat": 4,
 "nbformat_minor": 2
}
