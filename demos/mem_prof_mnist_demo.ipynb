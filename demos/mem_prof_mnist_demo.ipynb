{
 "cells": [
  {
   "cell_type": "code",
   "execution_count": 15,
   "metadata": {
    "collapsed": true
   },
   "outputs": [],
   "source": [
    "import numpy as np\n",
    "import os\n",
    "from scipy.io import loadmat\n",
    "from sklearn.datasets import get_data_home\n",
    "from sklearn.neighbors import LargeMarginNearestNeighbor as LMNN"
   ]
  },
  {
   "cell_type": "code",
   "execution_count": 17,
   "metadata": {
    "collapsed": true
   },
   "outputs": [],
   "source": [
    "MNIST_DESKEWED_PATH = os.path.join(get_data_home(), 'mnist-deskewed.mat')\n",
    "mnist_mat = loadmat(MNIST_DESKEWED_PATH)\n",
    "X_train = np.asarray(mnist_mat['xTr'], dtype=np.float64).T\n",
    "X_test = np.asarray(mnist_mat['xTe'], dtype=np.float64).T\n",
    "y_train = np.asarray(mnist_mat['yTr'], dtype=np.int).ravel()\n",
    "y_test = np.asarray(mnist_mat['yTe'], dtype=np.int).ravel()"
   ]
  },
  {
   "cell_type": "code",
   "execution_count": 9,
   "metadata": {
    "collapsed": true
   },
   "outputs": [],
   "source": [
    "%load_ext memory_profiler"
   ]
  },
  {
   "cell_type": "code",
   "execution_count": 20,
   "metadata": {
    "collapsed": true
   },
   "outputs": [],
   "source": [
    "lmnn = LMNN(n_neighbors=3, random_state=42, verbose=1, n_jobs=-1)"
   ]
  },
  {
   "cell_type": "code",
   "execution_count": 21,
   "metadata": {},
   "outputs": [
    {
     "name": "stdout",
     "output_type": "stream",
     "text": [
      "Finding principal components... done in  0.69s\n",
      "Finding the target neighbors... done in 37.62s\n",
      "Computing static part of the gradient...\n",
      "\n",
      " Iteration  Func.Call      Func.Value    Time(s)\n",
      "------------------------------------------------\n",
      "         1\n",
      "                    1    1.047192e+07      17.48\n",
      "                    2    4.214638e+06      17.10\n",
      "         2\n",
      "                    3    3.778295e+06      17.08\n",
      "         3\n",
      "                    4    2.984754e+06      17.10\n",
      "         4\n",
      "                    5    2.507289e+06      17.03\n",
      "         5\n",
      "                    6    1.996751e+06      16.85\n",
      "         6\n",
      "                    7    1.398770e+06      17.07\n",
      "         7\n",
      "                    8    1.392048e+06      18.34\n",
      "                    9    1.138961e+06      16.98\n",
      "         8\n",
      "                   10    8.651452e+05      17.67\n",
      "         9\n",
      "                   11    7.315495e+05      17.58\n",
      "        10\n",
      "                   12    6.893144e+05      17.60\n",
      "        11\n",
      "                   13    6.268769e+05      18.10\n",
      "                   14    5.891105e+05      17.99\n",
      "        12\n",
      "                   15    5.220136e+05      18.26\n",
      "        13\n",
      "                   16    4.896472e+05      19.92\n",
      "        14\n",
      "                   17    4.359519e+05      18.97\n",
      "        15\n",
      "                   18    4.186478e+05      19.11\n",
      "        16\n",
      "                   19    3.761862e+05      19.97\n",
      "        17\n",
      "                   20    3.433026e+05      20.88\n",
      "        18\n",
      "                   21    3.227201e+05      20.89\n",
      "        19\n",
      "                   22    3.026069e+05      21.21\n",
      "        20\n",
      "                   23    2.856880e+05      21.59\n",
      "        21\n",
      "                   24    2.688531e+05      21.94\n",
      "        22\n",
      "                   25    2.579673e+05      22.09\n",
      "        23\n",
      "                   26    2.500377e+05      22.38\n",
      "        24\n",
      "                   27    2.427027e+05      22.10\n",
      "        25\n",
      "                   28    2.362910e+05      22.52\n",
      "        26\n",
      "                   29    2.323478e+05      22.42\n",
      "        27\n",
      "                   30    2.316277e+05      23.76\n",
      "        28\n",
      "                   31    2.317639e+05      22.85\n",
      "                   32    2.308892e+05      22.57\n",
      "        29\n",
      "                   33    2.322012e+05      22.65\n",
      "                   34    2.306985e+05      23.09\n",
      "        30\n",
      "                   35    2.325338e+05      26.66\n",
      "                   36    2.311375e+05      27.23\n",
      "                   37    2.310201e+05      37.29\n",
      "                   38    2.312079e+05      27.31\n",
      "                   39    2.309383e+05      27.25\n",
      "                   40    2.309424e+05      27.59\n",
      "                   41    2.310121e+05      22.90\n",
      "                   42    2.314941e+05      22.69\n",
      "        31\n",
      "Converged after 42 function calls.\n",
      "peak memory: 594.42 MiB, increment: 422.76 MiB\n"
     ]
    }
   ],
   "source": [
    "%memit lmnn.fit(X_train, y_train)"
   ]
  },
  {
   "cell_type": "code",
   "execution_count": 22,
   "metadata": {
    "collapsed": true
   },
   "outputs": [],
   "source": [
    "from sklearn.neighbors import KNeighborsClassifier as KNN"
   ]
  },
  {
   "cell_type": "code",
   "execution_count": 23,
   "metadata": {
    "collapsed": true
   },
   "outputs": [],
   "source": [
    "knn = KNN(n_neighbors=lmnn.n_neighbors_, n_jobs=-1)"
   ]
  },
  {
   "cell_type": "code",
   "execution_count": 24,
   "metadata": {},
   "outputs": [
    {
     "data": {
      "text/plain": [
       "KNeighborsClassifier(algorithm='auto', leaf_size=30, metric='minkowski',\n",
       "           metric_params=None, n_jobs=-1, n_neighbors=3, p=2,\n",
       "           weights='uniform')"
      ]
     },
     "execution_count": 24,
     "metadata": {},
     "output_type": "execute_result"
    }
   ],
   "source": [
    "knn.fit(lmnn.transform(X_train), y_train)"
   ]
  },
  {
   "cell_type": "code",
   "execution_count": 25,
   "metadata": {},
   "outputs": [
    {
     "data": {
      "text/plain": [
       "0.98629999999999995"
      ]
     },
     "execution_count": 25,
     "metadata": {},
     "output_type": "execute_result"
    }
   ],
   "source": [
    "knn.score(lmnn.transform(X_test), y_test)"
   ]
  },
  {
   "cell_type": "code",
   "execution_count": null,
   "metadata": {
    "collapsed": true
   },
   "outputs": [],
   "source": []
  }
 ],
 "metadata": {
  "kernelspec": {
   "display_name": "Python 3",
   "language": "python",
   "name": "python3"
  },
  "language_info": {
   "codemirror_mode": {
    "name": "ipython",
    "version": 3
   },
   "file_extension": ".py",
   "mimetype": "text/x-python",
   "name": "python",
   "nbconvert_exporter": "python",
   "pygments_lexer": "ipython3",
   "version": "3.6.1"
  }
 },
 "nbformat": 4,
 "nbformat_minor": 2
}
